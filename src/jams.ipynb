{
 "cells": [
  {
   "cell_type": "code",
   "execution_count": 1,
   "metadata": {
    "collapsed": true
   },
   "outputs": [],
   "source": [
    "import jams\n",
    "import mir_eval\n"
   ]
  },
  {
   "cell_type": "code",
   "execution_count": 4,
   "metadata": {
    "collapsed": false
   },
   "outputs": [],
   "source": [
    "j= jams.load(\"../data/2.jams\")"
   ]
  },
  {
   "cell_type": "code",
   "execution_count": 33,
   "metadata": {
    "collapsed": false
   },
   "outputs": [
    {
     "name": "stdout",
     "output_type": "stream",
     "text": [
      "0.0 0.464399 silence\n",
      "0.464399 14.379864 intro\n",
      "14.379864 23.986213 no_function\n",
      "23.986213 33.622494 no_function\n",
      "33.622494 42.956916 verse\n",
      "42.956916 49.68102 no_function\n",
      "49.68102 67.005941 transition\n",
      "67.005941 76.881292 pre-chorus\n",
      "76.881293 86.425397 chorus\n",
      "86.425397 98.689433 no_function\n",
      "98.689433 108.166304 verse\n",
      "108.166304 115.47449 no_function\n",
      "115.47449 129.466939 transition\n",
      "129.466939 137.682789 chorus\n",
      "137.682789 160.601927 no_function\n",
      "160.601927 167.620181 no_function\n",
      "167.620181 177.151722 pre-chorus\n",
      "177.151723 194.691836 chorus\n",
      "194.691837 242.415329 no_function\n",
      "242.415329 250.548934 outro\n",
      "250.548934 263.205419 fade-out\n",
      "263.20542 264.885216 silence\n"
     ]
    }
   ],
   "source": [
    "for i in zip(list(j.annotations[0].data.time), list(j.annotations[0].data.time + j.annotations[0].data.duration), j.annotations[0].data.value):\n",
    "    print  i[0].total_seconds(), i[1].total_seconds(), i[2]\n"
   ]
  },
  {
   "cell_type": "code",
   "execution_count": 116,
   "metadata": {
    "collapsed": false
   },
   "outputs": [
    {
     "data": {
      "text/plain": [
       "[(array([ 0.      ,  0.464399]), u'silence'),\n",
       " (array([  0.464399,  14.379864]), u'intro'),\n",
       " (array([ 14.379864,  23.986213]), u'no_function'),\n",
       " (array([ 23.986213,  33.622494]), u'no_function'),\n",
       " (array([ 33.622494,  42.956916]), u'verse'),\n",
       " (array([ 42.956916,  49.68102 ]), u'no_function'),\n",
       " (array([ 49.68102 ,  67.005941]), u'transition'),\n",
       " (array([ 67.005941,  76.881292]), u'pre-chorus'),\n",
       " (array([ 76.881293,  86.425397]), u'chorus'),\n",
       " (array([ 86.425397,  98.689433]), u'no_function'),\n",
       " (array([  98.689433,  108.166304]), u'verse'),\n",
       " (array([ 108.166304,  115.47449 ]), u'no_function'),\n",
       " (array([ 115.47449 ,  129.466939]), u'transition'),\n",
       " (array([ 129.466939,  137.682789]), u'chorus'),\n",
       " (array([ 137.682789,  160.601927]), u'no_function'),\n",
       " (array([ 160.601927,  167.620181]), u'no_function'),\n",
       " (array([ 167.620181,  177.151722]), u'pre-chorus'),\n",
       " (array([ 177.151723,  194.691836]), u'chorus'),\n",
       " (array([ 194.691837,  242.415329]), u'no_function'),\n",
       " (array([ 242.415329,  250.548934]), u'outro'),\n",
       " (array([ 250.548934,  263.205419]), u'fade-out'),\n",
       " (array([ 263.20542 ,  264.885216]), u'silence')]"
      ]
     },
     "execution_count": 116,
     "metadata": {},
     "output_type": "execute_result"
    }
   ],
   "source": [
    "zip(j.annotations[0].data.to_interval_values()[0], j.annotations[0].data.to_interval_values()[1])"
   ]
  },
  {
   "cell_type": "code",
   "execution_count": 5,
   "metadata": {
    "collapsed": false
   },
   "outputs": [
    {
     "data": {
      "text/html": [
       "<div>\n",
       "<table border=\"1\" class=\"dataframe\">\n",
       "  <thead>\n",
       "    <tr style=\"text-align: right;\">\n",
       "      <th></th>\n",
       "      <th>time</th>\n",
       "      <th>duration</th>\n",
       "      <th>value</th>\n",
       "      <th>confidence</th>\n",
       "    </tr>\n",
       "  </thead>\n",
       "  <tbody>\n",
       "    <tr>\n",
       "      <th>0</th>\n",
       "      <td>00:00:00</td>\n",
       "      <td>00:00:00.464399</td>\n",
       "      <td>silence</td>\n",
       "      <td>None</td>\n",
       "    </tr>\n",
       "    <tr>\n",
       "      <th>1</th>\n",
       "      <td>00:00:00.464399</td>\n",
       "      <td>00:00:13.915465</td>\n",
       "      <td>intro</td>\n",
       "      <td>None</td>\n",
       "    </tr>\n",
       "    <tr>\n",
       "      <th>2</th>\n",
       "      <td>00:00:14.379864</td>\n",
       "      <td>00:00:09.606349</td>\n",
       "      <td>no_function</td>\n",
       "      <td>None</td>\n",
       "    </tr>\n",
       "    <tr>\n",
       "      <th>3</th>\n",
       "      <td>00:00:23.986213</td>\n",
       "      <td>00:00:09.636281</td>\n",
       "      <td>no_function</td>\n",
       "      <td>None</td>\n",
       "    </tr>\n",
       "    <tr>\n",
       "      <th>4</th>\n",
       "      <td>00:00:33.622494</td>\n",
       "      <td>00:00:09.334422</td>\n",
       "      <td>verse</td>\n",
       "      <td>None</td>\n",
       "    </tr>\n",
       "    <tr>\n",
       "      <th>5</th>\n",
       "      <td>00:00:42.956916</td>\n",
       "      <td>00:00:06.724104</td>\n",
       "      <td>no_function</td>\n",
       "      <td>None</td>\n",
       "    </tr>\n",
       "    <tr>\n",
       "      <th>6</th>\n",
       "      <td>00:00:49.681020</td>\n",
       "      <td>00:00:17.324921</td>\n",
       "      <td>transition</td>\n",
       "      <td>None</td>\n",
       "    </tr>\n",
       "    <tr>\n",
       "      <th>7</th>\n",
       "      <td>00:01:07.005941</td>\n",
       "      <td>00:00:09.875351</td>\n",
       "      <td>pre-chorus</td>\n",
       "      <td>None</td>\n",
       "    </tr>\n",
       "    <tr>\n",
       "      <th>8</th>\n",
       "      <td>00:01:16.881293</td>\n",
       "      <td>00:00:09.544104</td>\n",
       "      <td>chorus</td>\n",
       "      <td>None</td>\n",
       "    </tr>\n",
       "    <tr>\n",
       "      <th>9</th>\n",
       "      <td>00:01:26.425397</td>\n",
       "      <td>00:00:12.264036</td>\n",
       "      <td>no_function</td>\n",
       "      <td>None</td>\n",
       "    </tr>\n",
       "    <tr>\n",
       "      <th>10</th>\n",
       "      <td>00:01:38.689433</td>\n",
       "      <td>00:00:09.476871</td>\n",
       "      <td>verse</td>\n",
       "      <td>None</td>\n",
       "    </tr>\n",
       "    <tr>\n",
       "      <th>11</th>\n",
       "      <td>00:01:48.166304</td>\n",
       "      <td>00:00:07.308186</td>\n",
       "      <td>no_function</td>\n",
       "      <td>None</td>\n",
       "    </tr>\n",
       "    <tr>\n",
       "      <th>12</th>\n",
       "      <td>00:01:55.474490</td>\n",
       "      <td>00:00:13.992449</td>\n",
       "      <td>transition</td>\n",
       "      <td>None</td>\n",
       "    </tr>\n",
       "    <tr>\n",
       "      <th>13</th>\n",
       "      <td>00:02:09.466939</td>\n",
       "      <td>00:00:08.215850</td>\n",
       "      <td>chorus</td>\n",
       "      <td>None</td>\n",
       "    </tr>\n",
       "    <tr>\n",
       "      <th>14</th>\n",
       "      <td>00:02:17.682789</td>\n",
       "      <td>00:00:22.919138</td>\n",
       "      <td>no_function</td>\n",
       "      <td>None</td>\n",
       "    </tr>\n",
       "    <tr>\n",
       "      <th>15</th>\n",
       "      <td>00:02:40.601927</td>\n",
       "      <td>00:00:07.018254</td>\n",
       "      <td>no_function</td>\n",
       "      <td>None</td>\n",
       "    </tr>\n",
       "    <tr>\n",
       "      <th>16</th>\n",
       "      <td>00:02:47.620181</td>\n",
       "      <td>00:00:09.531541</td>\n",
       "      <td>pre-chorus</td>\n",
       "      <td>None</td>\n",
       "    </tr>\n",
       "    <tr>\n",
       "      <th>17</th>\n",
       "      <td>00:02:57.151723</td>\n",
       "      <td>00:00:17.540113</td>\n",
       "      <td>chorus</td>\n",
       "      <td>None</td>\n",
       "    </tr>\n",
       "    <tr>\n",
       "      <th>18</th>\n",
       "      <td>00:03:14.691837</td>\n",
       "      <td>00:00:47.723492</td>\n",
       "      <td>no_function</td>\n",
       "      <td>None</td>\n",
       "    </tr>\n",
       "    <tr>\n",
       "      <th>19</th>\n",
       "      <td>00:04:02.415329</td>\n",
       "      <td>00:00:08.133605</td>\n",
       "      <td>outro</td>\n",
       "      <td>None</td>\n",
       "    </tr>\n",
       "    <tr>\n",
       "      <th>20</th>\n",
       "      <td>00:04:10.548934</td>\n",
       "      <td>00:00:12.656485</td>\n",
       "      <td>fade-out</td>\n",
       "      <td>None</td>\n",
       "    </tr>\n",
       "    <tr>\n",
       "      <th>21</th>\n",
       "      <td>00:04:23.205420</td>\n",
       "      <td>00:00:01.679796</td>\n",
       "      <td>silence</td>\n",
       "      <td>None</td>\n",
       "    </tr>\n",
       "  </tbody>\n",
       "</table>\n",
       "</div>"
      ],
      "text/plain": [
       "              time        duration        value confidence\n",
       "0         00:00:00 00:00:00.464399      silence       None\n",
       "1  00:00:00.464399 00:00:13.915465        intro       None\n",
       "2  00:00:14.379864 00:00:09.606349  no_function       None\n",
       "3  00:00:23.986213 00:00:09.636281  no_function       None\n",
       "4  00:00:33.622494 00:00:09.334422        verse       None\n",
       "5  00:00:42.956916 00:00:06.724104  no_function       None\n",
       "6  00:00:49.681020 00:00:17.324921   transition       None\n",
       "7  00:01:07.005941 00:00:09.875351   pre-chorus       None\n",
       "8  00:01:16.881293 00:00:09.544104       chorus       None\n",
       "9  00:01:26.425397 00:00:12.264036  no_function       None\n",
       "10 00:01:38.689433 00:00:09.476871        verse       None\n",
       "11 00:01:48.166304 00:00:07.308186  no_function       None\n",
       "12 00:01:55.474490 00:00:13.992449   transition       None\n",
       "13 00:02:09.466939 00:00:08.215850       chorus       None\n",
       "14 00:02:17.682789 00:00:22.919138  no_function       None\n",
       "15 00:02:40.601927 00:00:07.018254  no_function       None\n",
       "16 00:02:47.620181 00:00:09.531541   pre-chorus       None\n",
       "17 00:02:57.151723 00:00:17.540113       chorus       None\n",
       "18 00:03:14.691837 00:00:47.723492  no_function       None\n",
       "19 00:04:02.415329 00:00:08.133605        outro       None\n",
       "20 00:04:10.548934 00:00:12.656485     fade-out       None\n",
       "21 00:04:23.205420 00:00:01.679796      silence       None"
      ]
     },
     "execution_count": 5,
     "metadata": {},
     "output_type": "execute_result"
    }
   ],
   "source": [
    "res = j.annotations[0][\"data\"]\n",
    "res"
   ]
  },
  {
   "cell_type": "code",
   "execution_count": null,
   "metadata": {
    "collapsed": false
   },
   "outputs": [],
   "source": [
    "res[]"
   ]
  },
  {
   "cell_type": "code",
   "execution_count": 7,
   "metadata": {
    "collapsed": false
   },
   "outputs": [
    {
     "name": "stdout",
     "output_type": "stream",
     "text": [
      "0           00:00:00\n",
      "1    00:00:00.464399\n",
      "2    00:00:14.379864\n",
      "3    00:00:23.986213\n",
      "4    00:00:33.622494\n",
      "5    00:00:42.956916\n",
      "6    00:00:49.681020\n",
      "7    00:01:07.005941\n",
      "8    00:01:16.881293\n",
      "9    00:01:26.425397\n",
      "10   00:01:38.689433\n",
      "11   00:01:48.166304\n",
      "12   00:01:55.474490\n",
      "13   00:02:09.466939\n",
      "14   00:02:17.682789\n",
      "15   00:02:40.601927\n",
      "16   00:02:47.620181\n",
      "17   00:02:57.151723\n",
      "18   00:03:14.691837\n",
      "19   00:04:02.415329\n",
      "20   00:04:10.548934\n",
      "21   00:04:23.205420\n",
      "Name: time, dtype: timedelta64[ns]\n"
     ]
    }
   ],
   "source": [
    "print res[\"time\"]"
   ]
  },
  {
   "cell_type": "code",
   "execution_count": 6,
   "metadata": {
    "collapsed": false
   },
   "outputs": [
    {
     "data": {
      "text/plain": [
       "<function mir_eval.util.intervals_to_samples>"
      ]
     },
     "execution_count": 6,
     "metadata": {},
     "output_type": "execute_result"
    }
   ],
   "source": [
    "mir_eval.util.intervals_to_samples"
   ]
  },
  {
   "cell_type": "code",
   "execution_count": 38,
   "metadata": {
    "collapsed": false
   },
   "outputs": [
    {
     "ename": "NameError",
     "evalue": "name 'total_seconds' is not defined",
     "output_type": "error",
     "traceback": [
      "\u001b[0;31m---------------------------------------------------------------------------\u001b[0m",
      "\u001b[0;31mNameError\u001b[0m                                 Traceback (most recent call last)",
      "\u001b[0;32m<ipython-input-38-2041252e819e>\u001b[0m in \u001b[0;36m<module>\u001b[0;34m()\u001b[0m\n\u001b[0;32m----> 1\u001b[0;31m \u001b[0mmap\u001b[0m\u001b[0;34m(\u001b[0m\u001b[0mtotal_seconds\u001b[0m\u001b[0;34m(\u001b[0m\u001b[0;34m)\u001b[0m\u001b[0;34m,\u001b[0m \u001b[0mj\u001b[0m\u001b[0;34m.\u001b[0m\u001b[0mannotations\u001b[0m\u001b[0;34m[\u001b[0m\u001b[0;36m0\u001b[0m\u001b[0;34m]\u001b[0m\u001b[0;34m.\u001b[0m\u001b[0mdata\u001b[0m\u001b[0;34m.\u001b[0m\u001b[0mtime\u001b[0m\u001b[0;34m)\u001b[0m\u001b[0;34m\u001b[0m\u001b[0m\n\u001b[0m",
      "\u001b[0;31mNameError\u001b[0m: name 'total_seconds' is not defined"
     ]
    }
   ],
   "source": [
    "map(total_seconds(), j.annotations[0].data.time)"
   ]
  },
  {
   "cell_type": "code",
   "execution_count": null,
   "metadata": {
    "collapsed": true
   },
   "outputs": [],
   "source": []
  }
 ],
 "metadata": {
  "kernelspec": {
   "display_name": "Python 2",
   "language": "python",
   "name": "python2"
  },
  "language_info": {
   "codemirror_mode": {
    "name": "ipython",
    "version": 2
   },
   "file_extension": ".py",
   "mimetype": "text/x-python",
   "name": "python",
   "nbconvert_exporter": "python",
   "pygments_lexer": "ipython2",
   "version": "2.7.10"
  }
 },
 "nbformat": 4,
 "nbformat_minor": 0
}
